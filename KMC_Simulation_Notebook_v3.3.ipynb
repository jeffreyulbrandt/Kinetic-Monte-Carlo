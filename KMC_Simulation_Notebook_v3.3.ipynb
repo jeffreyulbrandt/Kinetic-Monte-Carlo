{
 "cells": [
  {
   "cell_type": "markdown",
   "metadata": {},
   "source": [
    "# Kinetic Monte-Carlo Simulation Notebook\n",
    "* This notebook is for running a KMC simulation\n",
    "* Set relevant parameters and create simulation object\n",
    "* Extract relevent results"
   ]
  },
  {
   "cell_type": "markdown",
   "metadata": {},
   "source": [
    "### Import modules"
   ]
  },
  {
   "cell_type": "code",
   "execution_count": null,
   "metadata": {},
   "outputs": [],
   "source": [
    "%matplotlib inline\n",
    "import numpy as np\n",
    "import time\n",
    "import matplotlib.pyplot as plt\n",
    "\n",
    "import ipywidgets as widgets\n",
    "\n",
    "import KMC_Simulation_v3p3 as KMC_Sim\n",
    "import KMC_Miscellaneous_v3p3 as KMC_Misc"
   ]
  },
  {
   "cell_type": "markdown",
   "metadata": {},
   "source": [
    "### Set Parameters"
   ]
  },
  {
   "cell_type": "code",
   "execution_count": null,
   "metadata": {},
   "outputs": [],
   "source": [
    "Parameters = {}\n",
    "\n",
    "# Simulation Parameters\n",
    "Parameters['Project_Name'] = 'Detach'      # Name for the project save folder.\n",
    "Parameters['Simulation_Name'] = 'Ediff0p9'         # Name of particular simulation within a project. Can be an empty string: '' because it's DateTime stamped\n",
    "\n",
    "Parameters['Number_of_Simulations'] = 10             # number of simulations to perform (fixed parameters)\n",
    "\n",
    "Parameters['Enable_Print_Outs'] = True             # Enable/Disable simulation prinouts.\n",
    "Parameters['Enable_Plots'] = False                  # Display final plots at end of simulation. Turn off if running multiple simulations\n",
    "\n",
    "Parameters['Simulation_Type'] = 'Deposition'       # Simulation Type. Choices: 'Deposition', 'Diffusion (future)'\n",
    "Parameters['Dimension'] = '3D'                     # Either 2D (1+1) or 3D (2+1). For 2D only Lx is used.\n",
    "\n",
    "Parameters['Solver_Type'] = 'Binary'            # Type of Solver: 'Linear' O(N^2), 'Binary' O(N log N), 'Set' O(log N)\n",
    "\n",
    "Parameters['Post_Anneal'] = False                # Run a Post Anneal Step\n",
    "Parameters['Post_Anneal_Time'] = 1000.0          # Length of Post Anneal Step in seconds.\n",
    "\n",
    "\n",
    "# Substrate Parameters\n",
    "Parameters['Lx'] = 1000           # substrate size in x direction\n",
    "Parameters['Ly'] = 1000           # substrate size in y direction (not used in 2D mode)\n",
    "Parameters['depth'] = 10          # how many incomplete layers in the lattice (be careful setting this, or errors could occur)\n",
    "\n",
    "Parameters['Substrate_Type'] = 'Flat'        # Substrate Style . Options: 'Flat', 'Islands', 'Steps'\n",
    "\n",
    "Parameters['Feature_Layout'] = 'Uniform'        # Feature Layout: 'Uniform': uniform grid, 'Correlated': offset from uniform , 'Random': completely random layout \n",
    "Parameters['Feature_Spacing'] = (10,10,0)       # (number in x direction, number in y, avg spread in lattice units)\n",
    "Parameters['Size_Distribution'] = 'Gaussian'        # Size ditribution of features: 'None', 'Gaussian', or 'Correlated'\n",
    "Parameters['Size_Values'] = (10,0)               # (Radius or Step Length, Width of distribution)\n",
    "\n",
    "Parameters['Substrate_Particle_State'] = 'Passive'      # whether substrate particles are active or not. Options: 'Active', 'Passive'.\n",
    "\n",
    "\n",
    "\n",
    "# Deposition Parameters (Deposition Type simulation only)\n",
    "Parameters['Pulses'] = 22                      # number of pulses to simulate\n",
    "Parameters['Dwell_Time'] = 10.0                # Pulse Period\n",
    "Parameters['Pulse_Shape'] = 'Uniform'           # shape of the deposition pulse. Options: 'Uniform', 'Maxwell'\n",
    "Parameters['Pulse_Width'] = 1e-5              # Width of deposition pulse in seconds (must be less than dwell time)\n",
    "Parameters['n'] = int(Parameters['Lx']*Parameters['Ly']/20)       # number of particles deposited each pulse\n",
    "\n",
    "\n",
    "\n",
    "# Thermal Processes and Activation Energies (Slow Dynamics)\n",
    "Parameters['Enable_Processes'] = 'No_Uphill_4NN'        # Choose which processes to enable. Options: 'All', 'No_Uphill_4NN', 'No_Detach', 'No_Edge', 'No_Detach_or_Edge'\n",
    "\n",
    "Parameters['w0'] = 10**6  #10**13             # Prefactor for Arhenius law (Crystal Vibration Frequency: w0 ~ kT/h )\n",
    "Parameters['Substrate_Temperature'] = 600     # Substrate temperature in Celcius\n",
    "\n",
    "Parameters['Ea_diffusion'] = 0.9 #1.6114184494753379               # Energy Barrier for surface diffusion in eV\n",
    "Parameters['Ea_ehrlich_schwoebel'] = 0.0        # Energy Barrier for downhill/uphill diffusion in eV\n",
    "Parameters['Ea_detach'] = 0.2                  # Energy Barrier for detachment from one nearest neighbor in eV\n",
    "Parameters['Ea_edge'] = 0.0                    # Energy Barrier for Edge diffusion in eV (3D only). Value of 0 means same as surface diffusion\n",
    "Parameters['Ea_corner'] = 0.0                   # Energy Barrier for Corner diffusion in eV (3D only)\n",
    "\n",
    "\n",
    "\n",
    "# Non-Thermal Processes (Fast Dynamics) - currently not enabled\n",
    "Parameters['Downward_Funneling'] = False      # enables downward funneling when particles land on step edges\n",
    "Parameters['Transient_Mobility'] = False      # enables transient mobility\n",
    "Parameters['Island_Chipping'] = False         # enable island chipping\n",
    "\n",
    "\n",
    "\n",
    "# On-the-Fly Analysis Parameters\n",
    "Parameters['Coverage'] = True                # do a coverage analysis\n",
    "Parameters['Island_Analysis'] = True         # do island size distribution analysis\n",
    "Parameters['Structure_Factor'] = True        # do structure factor analysis\n",
    "Parameters['Analysis_Time'] = 0.1           # time interval for On-the-Fly analysis\n",
    "Parameters['On_the_Fly_Save'] = False         # whether to save the on-the-fly results for each simulation. Usually true, unless doing multiple simulations\n",
    "Parameters['Average_Results'] = True       # average on-the-fly results and save across mulit-simulations. Only used when running multiple simulations\n",
    "\n",
    "\n",
    "\n",
    "# Save Data Parameters\n",
    "Parameters['Save_Output_File'] = False         # saves all events in the simulation to output file\n",
    "Parameters['Save_Lattice'] = False            # save the lattice at specified times. Lattice sites are saved as occupied or unoccupied\n",
    "Parameters['Save_Surface'] = False            # save a top down view of surface at specified times.\n",
    "Parameters['Save_Final_Lattice'] = False      # Save a copy of the lattice at end of simulation\n",
    "Parameters['Save_Times'] = 0.1               # time interval to save lattice and statistics data (set to resolution needed for post analysis). Progress Bar"
   ]
  },
  {
   "cell_type": "markdown",
   "metadata": {},
   "source": [
    "## Evaluate the Input Parameters\n",
    "* print elementary process rates"
   ]
  },
  {
   "cell_type": "code",
   "execution_count": null,
   "metadata": {},
   "outputs": [],
   "source": [
    "Rate_Catalog, rates, moves, keys, num_proc = KMC_Misc.Process_Catalog(Parameters).Return_Rates()\n",
    "Rate_Catalog"
   ]
  },
  {
   "cell_type": "code",
   "execution_count": null,
   "metadata": {},
   "outputs": [],
   "source": [
    "Rate_Catalog['Diff']/0.005"
   ]
  },
  {
   "cell_type": "code",
   "execution_count": null,
   "metadata": {},
   "outputs": [],
   "source": []
  },
  {
   "cell_type": "markdown",
   "metadata": {},
   "source": [
    "# Run the Simulation\n",
    "* Pick a simulation script from below"
   ]
  },
  {
   "cell_type": "markdown",
   "metadata": {},
   "source": [
    "### Single Simulation"
   ]
  },
  {
   "cell_type": "code",
   "execution_count": null,
   "metadata": {
    "scrolled": true
   },
   "outputs": [],
   "source": [
    "Simulation = KMC_Sim.Simulation(Parameters)   # Initialize the Simulation\n",
    "Simulation.Run()   # Run the Simulation"
   ]
  },
  {
   "cell_type": "code",
   "execution_count": null,
   "metadata": {},
   "outputs": [],
   "source": [
    "# Simulation.Pulse.Engine.rate_catalog\n",
    "Simulation.Pulse.Analysis.num_clusters[1][-1]"
   ]
  },
  {
   "cell_type": "code",
   "execution_count": null,
   "metadata": {},
   "outputs": [],
   "source": []
  },
  {
   "cell_type": "markdown",
   "metadata": {},
   "source": [
    "### Multiple Sims - vary a parameter"
   ]
  },
  {
   "cell_type": "code",
   "execution_count": null,
   "metadata": {},
   "outputs": [],
   "source": [
    "# Vary the edge diffusion energy barrier and evaluate island morphology\n",
    "E_edge = np.arange(0.1,1.0,0.01)\n",
    "N = E_edge.shape[0]  # number of sims\n",
    "print (N)\n",
    "\n",
    "# Set surface diffusion\n",
    "Parameters['Ea_diffusion'] = 0.8\n",
    "\n",
    "Imgs = []  # store surface after each sim\n",
    "Clusters = []  # store final number of clusters\n",
    "\n",
    "Parameters['Enable_Plots'] = False\n",
    "Parameters['Enable_Print_Outs'] = False\n",
    "\n",
    "for i in range(N):\n",
    "    # reset parameters\n",
    "    Parameters['Ea_detach'] = E_edge[i]\n",
    "    Parameters['Simulation_Name'] = 'rPLD_Ea_'+str(E_edge[i])[:4]+'eV'\n",
    "\n",
    "    Simulation = KMC_Sim.Simulation(Parameters)\n",
    "    Simulation.Run()\n",
    "\n",
    "    num_clusters = Simulation.Pulse.Analysis.num_clusters[1][-1]\n",
    "    Clusters.append(num_clusters)\n",
    "\n",
    "    Rate_Catalog = Simulation.Pulse.Engine.rate_catalog\n",
    "    k1 = Rate_Catalog['Diff']\n",
    "\n",
    "    # get the final surface\n",
    "    Lattice = Simulation.Pulse.Engine.lattice\n",
    "    Surface = np.argmax(Lattice,axis=2)\n",
    "    Surface = Surface.astype(np.uint8)  # max layer is 256 for this dtype\n",
    "    Imgs.append(Surface)\n",
    "\n",
    "    time.sleep(2)  # precaution to prevent same Date-Time Stamp if fast simulation\n",
    "\n",
    "    print ('Sim',str(i+1),'out of',str(N),'Complete!')\n",
    "\n",
    "print ('Done!!!!!')"
   ]
  },
  {
   "cell_type": "code",
   "execution_count": null,
   "metadata": {},
   "outputs": [],
   "source": [
    "plt.figure()\n",
    "plt.plot(Clusters)\n",
    "# plt.plot(np.gradient(Clusters))"
   ]
  },
  {
   "cell_type": "code",
   "execution_count": null,
   "metadata": {},
   "outputs": [],
   "source": [
    "SaveName = 'Detach_Ediff0p8_Cov0p2'\n",
    "np.save(SaveName,Clusters)\n",
    "SaveName2 = SaveName+'Imgs'\n",
    "np.save(SaveName2,Imgs)"
   ]
  },
  {
   "cell_type": "code",
   "execution_count": null,
   "metadata": {},
   "outputs": [],
   "source": [
    "E_edge[10]"
   ]
  },
  {
   "cell_type": "code",
   "execution_count": null,
   "metadata": {},
   "outputs": [],
   "source": [
    "plt.figure()\n",
    "plt.plot(Clusters)\n",
    "# plt.plot(np.gradient(Clusters))"
   ]
  },
  {
   "cell_type": "code",
   "execution_count": null,
   "metadata": {},
   "outputs": [],
   "source": [
    "# view the data\n",
    "fig, ax = plt.subplots(figsize=(7,7))\n",
    "im = ax.imshow(Imgs[0],aspect='auto',vmin=0,vmax=2)\n",
    "plt.tight_layout()\n",
    " \n",
    "def update(i):\n",
    "#     im.set_data(Imgs[i])\n",
    "    ax.imshow(Imgs[i],aspect='auto',vmin=0,vmax=2)\n",
    "    fig.canvas.draw()\n",
    "     \n",
    "int_slider = widgets.IntSlider(value=0, min=0, max=N-1, step=1,continuous_update=False)\n",
    "\n",
    "widgets.interact(update,i=int_slider)"
   ]
  },
  {
   "cell_type": "code",
   "execution_count": null,
   "metadata": {},
   "outputs": [],
   "source": [
    "# Save the data\n",
    "SaveName = 'Ediff1p1_Eedge0to1'\n",
    "np.save(SaveName,Imgs)"
   ]
  },
  {
   "cell_type": "code",
   "execution_count": null,
   "metadata": {},
   "outputs": [],
   "source": []
  },
  {
   "cell_type": "code",
   "execution_count": null,
   "metadata": {},
   "outputs": [],
   "source": [
    "SF = Simulation.Pulse.Analysis.structure_factor"
   ]
  },
  {
   "cell_type": "code",
   "execution_count": null,
   "metadata": {},
   "outputs": [],
   "source": [
    "plt.figure(figsize=(10,5))\n",
    "plt.imshow(SF,aspect='auto',vmin=0,vmax=5)"
   ]
  },
  {
   "cell_type": "code",
   "execution_count": null,
   "metadata": {},
   "outputs": [],
   "source": [
    "plt.figure()\n",
    "plt.plot(SF[2:,700],'bo')"
   ]
  },
  {
   "cell_type": "code",
   "execution_count": null,
   "metadata": {},
   "outputs": [],
   "source": []
  }
 ],
 "metadata": {
  "kernelspec": {
   "display_name": "Python 3",
   "language": "python",
   "name": "python3"
  },
  "language_info": {
   "codemirror_mode": {
    "name": "ipython",
    "version": 3
   },
   "file_extension": ".py",
   "mimetype": "text/x-python",
   "name": "python",
   "nbconvert_exporter": "python",
   "pygments_lexer": "ipython3",
   "version": "3.7.4"
  }
 },
 "nbformat": 4,
 "nbformat_minor": 2
}
